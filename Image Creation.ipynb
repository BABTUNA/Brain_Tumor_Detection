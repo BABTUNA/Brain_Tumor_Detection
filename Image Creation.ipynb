{
 "cells": [
  {
   "cell_type": "markdown",
   "id": "6f4a8c31",
   "metadata": {},
   "source": [
    "# Image Augmentor"
   ]
  },
  {
   "cell_type": "markdown",
   "id": "12dc996e",
   "metadata": {},
   "source": [
    "#### Reason for augmentation:\n",
    "Since the dataset we will be using only contains 220 images that are unequally balanced in positive and negative brain tumor detection, we will need to create more images (in equal balance)."
   ]
  },
  {
   "cell_type": "code",
   "execution_count": 1,
   "id": "a5e21824",
   "metadata": {},
   "outputs": [],
   "source": [
    "def image_augmentor(fdir, num_aug, save_dir):\n",
    "    \n",
    "    #import ImageDataGenerator from Keras(from tensorflow) to create augmented images\n",
    "    #import os to be able to access image directories\n",
    "    #import load_img and img_to_array to use images\n",
    "    import tensorflow\n",
    "    from keras.preprocessing.image import ImageDataGenerator\n",
    "    from tensorflow.keras.utils import load_img, img_to_array\n",
    "    import os\n",
    "    \n",
    "    #create the image augmentation parameters\n",
    "    datagen = ImageDataGenerator(rotation_range=8, \n",
    "                                  width_shift_range=0.05, \n",
    "                                  height_shift_range=0.05, \n",
    "                                  shear_range=0.1, \n",
    "                                  brightness_range=(0.2, 1.0),\n",
    "                                  horizontal_flip=True, \n",
    "                                  vertical_flip=True, \n",
    "                                  fill_mode='nearest'\n",
    "                                 )\n",
    "    \n",
    "\n",
    "    #use every image in provided directory\n",
    "    for fname in os.listdir(fdir):\n",
    "\n",
    "        #load and convert image\n",
    "        image = load_img(fdir+fname)\n",
    "        image = img_to_array(image)\n",
    "        image = image.reshape((1,) + image.shape)\n",
    "\n",
    "        #apply image augmentation\n",
    "        i = 1\n",
    "        for batch in datagen.flow(image, batch_size=1,  \n",
    "                          save_to_dir= save_dir, \n",
    "                          save_prefix='aug' + \" \" + fname[0: len(fname) -3], \n",
    "                          save_format='jpg'):\n",
    "        \n",
    "            i +=1\n",
    "            if i > num_aug:\n",
    "                break\n",
    "\n",
    "\n"
   ]
  },
  {
   "cell_type": "code",
   "execution_count": 2,
   "id": "0a04a58c",
   "metadata": {},
   "outputs": [],
   "source": [
    "#properly format the time elapsed\n",
    "def timer(length):\n",
    "    h = int(length / 3600)\n",
    "    m = int((length % 3600) / 60)\n",
    "    s = (length % 3600) % 60\n",
    "    return f\"{h}:{m}:{s:.2f}\""
   ]
  },
  {
   "cell_type": "code",
   "execution_count": 6,
   "id": "b9a9cbd1",
   "metadata": {},
   "outputs": [
    {
     "name": "stdout",
     "output_type": "stream",
     "text": [
      "0:1:33.13\n"
     ]
    }
   ],
   "source": [
    "#create images and examine time elapsed\n",
    "import time \n",
    "\n",
    "path1 = 'positive/'\n",
    "path2 = 'negative/'\n",
    "psave = 'augmented pos'\n",
    "nsave = 'augmented neg'\n",
    "\n",
    "start = time.time()\n",
    "\n",
    "image_augmentor(path1, 8, psave)\n",
    "image_augmentor(path2, 8, nsave)\n",
    "\n",
    "end = time.time()\n",
    "\n",
    "print(timer(end - start))"
   ]
  },
  {
   "cell_type": "code",
   "execution_count": 7,
   "id": "8a9dc67a",
   "metadata": {},
   "outputs": [
    {
     "name": "stdout",
     "output_type": "stream",
     "text": [
      "Total Images: 1600\n",
      "Positive: 800\n",
      "Negative: 800\n"
     ]
    }
   ],
   "source": [
    "#examine amount of images created\n",
    "import os\n",
    "pos = 'augmented neg/'\n",
    "neg = 'augmented pos/'\n",
    "\n",
    "num_pos = len(os.listdir(pos))\n",
    "num_neg = len(os.listdir(neg))\n",
    "total = num_pos + num_neg\n",
    "\n",
    "print(f\"Total Images: {total}\")\n",
    "print(f\"Positive: {num_pos}\")\n",
    "print(f\"Negative: {num_neg}\")"
   ]
  },
  {
   "cell_type": "code",
   "execution_count": null,
   "id": "60717643",
   "metadata": {},
   "outputs": [],
   "source": []
  }
 ],
 "metadata": {
  "kernelspec": {
   "display_name": "Python 3 (ipykernel)",
   "language": "python",
   "name": "python3"
  },
  "language_info": {
   "codemirror_mode": {
    "name": "ipython",
    "version": 3
   },
   "file_extension": ".py",
   "mimetype": "text/x-python",
   "name": "python",
   "nbconvert_exporter": "python",
   "pygments_lexer": "ipython3",
   "version": "3.9.12"
  }
 },
 "nbformat": 4,
 "nbformat_minor": 5
}
